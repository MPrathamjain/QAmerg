{
  "cells": [
    {
      "cell_type": "code",
      "execution_count": null,
      "metadata": {
        "colab": {
          "base_uri": "https://localhost:8080/"
        },
        "id": "lJT2vvwSAo77",
        "outputId": "7b99c871-f091-4f7c-e723-d46b75233e6d"
      },
      "outputs": [
        {
          "name": "stdout",
          "output_type": "stream",
          "text": [
            "Requirement already satisfied: PyPDF2 in /usr/local/lib/python3.10/dist-packages (3.0.1)\n"
          ]
        }
      ],
      "source": [
        "pip install PyPDF2\n"
      ]
    },
    {
      "cell_type": "code",
      "execution_count": null,
      "metadata": {
        "colab": {
          "base_uri": "https://localhost:8080/"
        },
        "id": "qTIGXsqAvUwR",
        "outputId": "7bad635b-20b9-4362-f9fe-ca5e60a91f6a"
      },
      "outputs": [
        {
          "name": "stdout",
          "output_type": "stream",
          "text": [
            "PDF split successfully into 'output_part1.pdf' and 'output_part2.pdf'.\n"
          ]
        }
      ],
      "source": [
        "import PyPDF2\n",
        "\n",
        "def split_pdf_on_word(input_pdf_path, output_pdf1_path, output_pdf2_path, split_word=\"SOLUTIONS\"):\n",
        "    try:\n",
        "        # Open the input PDF\n",
        "        with open(input_pdf_path, 'rb') as input_pdf:\n",
        "            pdf_reader = PyPDF2.PdfReader(input_pdf)\n",
        "            total_pages = len(pdf_reader.pages)\n",
        "\n",
        "            split_index = None\n",
        "            # Iterate through the pages to find the split word\n",
        "            for i, page in enumerate(pdf_reader.pages):\n",
        "                text = page.extract_text()\n",
        "                if split_word in text:\n",
        "                    split_index = i\n",
        "                    break\n",
        "\n",
        "            if split_index is None:\n",
        "                print(f\"The word '{split_word}' was not found in the PDF.\")\n",
        "                return\n",
        "\n",
        "            # Split the PDF into two parts\n",
        "            with open(output_pdf1_path, 'wb') as output_pdf1, open(output_pdf2_path, 'wb') as output_pdf2:\n",
        "                pdf_writer1 = PyPDF2.PdfWriter()\n",
        "                pdf_writer2 = PyPDF2.PdfWriter()\n",
        "\n",
        "                # Write pages up to the split index to the first output PDF\n",
        "                for page in pdf_reader.pages[:split_index]:\n",
        "                    pdf_writer1.add_page(page)\n",
        "                pdf_writer1.write(output_pdf1)\n",
        "\n",
        "                # Write pages from the split index onward to the second output PDF\n",
        "                for page in pdf_reader.pages[split_index:]:\n",
        "                    pdf_writer2.add_page(page)\n",
        "                pdf_writer2.write(output_pdf2)\n",
        "\n",
        "            print(f\"PDF split successfully into '{output_pdf1_path}' and '{output_pdf2_path}'.\")\n",
        "    except Exception as e:\n",
        "        print(f\"An error occurred: {e}\")\n",
        "\n",
        "# Example usage\n",
        "input_pdf_path = \"Age.pdf\"\n",
        "output_pdf1_path = \"output_part1.pdf\"\n",
        "output_pdf2_path = \"output_part2.pdf\"\n",
        "split_pdf_on_word(input_pdf_path, output_pdf1_path, output_pdf2_path)\n"
      ]
    },
    {
      "cell_type": "code",
      "execution_count": null,
      "metadata": {
        "colab": {
          "base_uri": "https://localhost:8080/"
        },
        "id": "D1Gd6w0KFFG4",
        "outputId": "56cb5ebc-37e4-4b84-88c3-ce889e772935"
      },
      "outputs": [
        {
          "name": "stdout",
          "output_type": "stream",
          "text": [
            "Requirement already satisfied: pdfplumber in /usr/local/lib/python3.10/dist-packages (0.11.4)\n",
            "Requirement already satisfied: pdfminer.six==20231228 in /usr/local/lib/python3.10/dist-packages (from pdfplumber) (20231228)\n",
            "Requirement already satisfied: Pillow>=9.1 in /usr/local/lib/python3.10/dist-packages (from pdfplumber) (11.0.0)\n",
            "Requirement already satisfied: pypdfium2>=4.18.0 in /usr/local/lib/python3.10/dist-packages (from pdfplumber) (4.30.1)\n",
            "Requirement already satisfied: charset-normalizer>=2.0.0 in /usr/local/lib/python3.10/dist-packages (from pdfminer.six==20231228->pdfplumber) (3.4.0)\n",
            "Requirement already satisfied: cryptography>=36.0.0 in /usr/local/lib/python3.10/dist-packages (from pdfminer.six==20231228->pdfplumber) (43.0.3)\n",
            "Requirement already satisfied: cffi>=1.12 in /usr/local/lib/python3.10/dist-packages (from cryptography>=36.0.0->pdfminer.six==20231228->pdfplumber) (1.17.1)\n",
            "Requirement already satisfied: pycparser in /usr/local/lib/python3.10/dist-packages (from cffi>=1.12->cryptography>=36.0.0->pdfminer.six==20231228->pdfplumber) (2.22)\n"
          ]
        }
      ],
      "source": [
        "pip install pdfplumber"
      ]
    },
    {
      "cell_type": "code",
      "execution_count": null,
      "metadata": {
        "colab": {
          "base_uri": "https://localhost:8080/"
        },
        "id": "N2HumBdXE6wN",
        "outputId": "350d4d7e-4a44-4aa5-d557-4d17601c972c"
      },
      "outputs": [
        {
          "name": "stdout",
          "output_type": "stream",
          "text": [
            "Extracted 31 questions with options. Saved to 'extracted_questions_and_options.txt'.\n"
          ]
        }
      ],
      "source": [
        "import pdfplumber\n",
        "import re\n",
        "\n",
        "def extract_ordered_list_from_pdf(pdf_path, question_pattern=r\"^\\d+\\.\", option_pattern=r\"^[a-d]\\.\"):\n",
        " \n",
        "    extracted_data = []\n",
        "    current_question = None\n",
        "\n",
        "    with pdfplumber.open(pdf_path) as pdf:\n",
        "        for page_number, page in enumerate(pdf.pages, start=1):\n",
        "            # Define the bounding boxes for left and right columns\n",
        "            width = page.width\n",
        "            height = page.height\n",
        "            left_bbox = (0, 0, width / 2, height)\n",
        "            right_bbox = (width / 2, 0, width, height)\n",
        "\n",
        "            # Extract text from both columns\n",
        "            left_text = page.within_bbox(left_bbox).extract_text() or \"\"\n",
        "            right_text = page.within_bbox(right_bbox).extract_text() or \"\"\n",
        "\n",
        "            # Combine text from both columns in reading order\n",
        "            full_text = (left_text + \"\\n\" + right_text).strip()\n",
        "            lines = full_text.split(\"\\n\")\n",
        "\n",
        "            for line in lines:\n",
        "                line = line.strip()\n",
        "\n",
        "                # Check if the line is a question (matches question pattern)\n",
        "                if re.match(question_pattern, line):\n",
        "                    # Save the previous question if it exists\n",
        "                    if current_question:\n",
        "                        extracted_data.append(current_question)\n",
        "\n",
        "                    # Start a new question\n",
        "                    current_question = {\"question\": line, \"options\": []}\n",
        "\n",
        "                # Check if the line is an option (matches option pattern)\n",
        "                elif re.match(option_pattern, line) and current_question:\n",
        "                    current_question[\"options\"].append(line)\n",
        "\n",
        "                # Handle continuation lines for long questions\n",
        "                elif current_question and not re.match(option_pattern, line):\n",
        "                    current_question[\"question\"] += \" \" + line\n",
        "\n",
        "        # Add the last question if it exists\n",
        "        if current_question:\n",
        "            extracted_data.append(current_question)\n",
        "\n",
        "    return extracted_data\n",
        "\n",
        "\n",
        "# Example usage\n",
        "pdf_path = \"output_part1.pdf\"  # Path to the PDF containing questions\n",
        "questions_with_options = extract_ordered_list_from_pdf(pdf_path)\n",
        "\n",
        "# Save extracted questions and options to a text file for review\n",
        "with open(\"extracted_questions_and_options.txt\", \"w\", encoding=\"utf-8\") as file:\n",
        "    for i, item in enumerate(questions_with_options, start=1):\n",
        "        file.write(f\"Question {i}:\\n{item['question']}\\n\")\n",
        "        for option in item['options']:\n",
        "            file.write(f\"  {option}\\n\")\n",
        "        file.write(\"\\n\")\n",
        "\n",
        "print(f\"Extracted {len(questions_with_options)} questions with options. Saved to 'extracted_questions_and_options.txt'.\")\n"
      ]
    },
    {
      "cell_type": "code",
      "execution_count": null,
      "metadata": {
        "colab": {
          "base_uri": "https://localhost:8080/"
        },
        "id": "qYQjjZeZGs41",
        "outputId": "ba2b331e-d8f0-4da4-e827-9008be6f6946"
      },
      "outputs": [
        {
          "name": "stdout",
          "output_type": "stream",
          "text": [
            "Extracted 31 answers. Saved to 'extracted_answers.txt'.\n"
          ]
        }
      ],
      "source": [
        "import pdfplumber\n",
        "import re\n",
        "\n",
        "def extract_answers_from_pdf(pdf_path, answer_numbering_pattern=r\"^\\d+\\.\", continuation_pattern=None):\n",
        "   \n",
        "    answers = {}\n",
        "    current_answer_number = None\n",
        "    current_answer_text = \"\"\n",
        "\n",
        "    with pdfplumber.open(pdf_path) as pdf:\n",
        "        for page_number, page in enumerate(pdf.pages, start=1):\n",
        "            # Define bounding boxes for left and right columns\n",
        "            width = page.width\n",
        "            height = page.height\n",
        "            left_bbox = (0, 0, width / 2, height)\n",
        "            right_bbox = (width / 2, 0, width, height)\n",
        "\n",
        "            # Extract text from both columns\n",
        "            left_text = page.within_bbox(left_bbox).extract_text() or \"\"\n",
        "            right_text = page.within_bbox(right_bbox).extract_text() or \"\"\n",
        "\n",
        "            # Combine text from both columns in reading order\n",
        "            full_text = (left_text + \"\\n\" + right_text).strip()\n",
        "            lines = full_text.split(\"\\n\")\n",
        "\n",
        "            for line in lines:\n",
        "                line = line.strip()\n",
        "\n",
        "                # Check if the line starts with an answer number\n",
        "                match = re.match(answer_numbering_pattern, line)\n",
        "                if match:\n",
        "                    # Save the previous answer if it exists\n",
        "                    if current_answer_number is not None:\n",
        "                        answers[current_answer_number] = current_answer_text.strip()\n",
        "\n",
        "                    # Start a new answer\n",
        "                    current_answer_number = match.group().strip()\n",
        "                    current_answer_text = line\n",
        "                else:\n",
        "                    # Append to the current answer if it's a continuation line\n",
        "                    if current_answer_number is not None:\n",
        "                        current_answer_text += \" \" + line\n",
        "\n",
        "        # Save the last answer if it exists\n",
        "        if current_answer_number is not None:\n",
        "            answers[current_answer_number] = current_answer_text.strip()\n",
        "\n",
        "    return answers\n",
        "\n",
        "\n",
        "# Example usage\n",
        "pdf_path = \"output_part2.pdf\"  # Path to the PDF containing answers\n",
        "answers = extract_answers_from_pdf(pdf_path)\n",
        "\n",
        "# Save extracted answers to a text file for review\n",
        "with open(\"extracted_answers.txt\", \"w\", encoding=\"utf-8\") as file:\n",
        "    for answer_number, answer_text in answers.items():\n",
        "        file.write(f\"Answer {answer_number}:\\n{answer_text}\\n\\n\")\n",
        "\n",
        "print(f\"Extracted {len(answers)} answers. Saved to 'extracted_answers.txt'.\")\n"
      ]
    },
    {
      "cell_type": "code",
      "execution_count": null,
      "metadata": {
        "colab": {
          "base_uri": "https://localhost:8080/"
        },
        "id": "DHLQlMVKd-rF",
        "outputId": "e2f28bc6-6151-4ae4-9298-e1a4b9b72de0"
      },
      "outputs": [
        {
          "name": "stdout",
          "output_type": "stream",
          "text": [
            "Merged content written to 'merged_questions_and_answers.txt'.\n"
          ]
        }
      ],
      "source": [
        "def merge_questions_and_answers(questions_file, answers_file, output_file):\n",
        "    \n",
        "    with open(questions_file, \"r\", encoding=\"utf-8\") as q_file, \\\n",
        "         open(answers_file, \"r\", encoding=\"utf-8\") as a_file, \\\n",
        "         open(output_file, \"w\", encoding=\"utf-8\") as out_file:\n",
        "\n",
        "        questions = q_file.read().strip().split(\"\\n\\n\")\n",
        "        answers = a_file.read().strip().split(\"\\n\\n\")\n",
        "\n",
        "        if len(questions) != len(answers):\n",
        "            print(f\"Warning: Number of questions ({len(questions)}) does not match number of answers ({len(answers)}).\")\n",
        "\n",
        "        # Merge questions and answers\n",
        "        for i in range(max(len(questions), len(answers))):\n",
        "            # Write the question\n",
        "            if i < len(questions):\n",
        "                out_file.write(f\"{questions[i]}\\n\\n\")\n",
        "            else:\n",
        "                out_file.write(f\"Question {i + 1}:\\n(Missing question)\\n\\n\")\n",
        "\n",
        "            # Write the answer\n",
        "            if i < len(answers):\n",
        "                out_file.write(f\"{answers[i]}\\n\\n\")\n",
        "            else:\n",
        "                out_file.write(f\"Answer {i + 1}:\\n(Missing answer)\\n\\n\")\n",
        "\n",
        "    print(f\"Merged content written to '{output_file}'.\")\n",
        "\n",
        "\n",
        "# Example usage\n",
        "questions_file = \"extracted_questions_and_options.txt\"  # File containing extracted questions\n",
        "answers_file = \"extracted_answers.txt\"                 # File containing extracted answers\n",
        "output_file = \"merged_questions_and_answers.txt\"       # Output file for merged content\n",
        "\n",
        "merge_questions_and_answers(questions_file, answers_file, output_file)\n"
      ]
    },
    {
      "cell_type": "code",
      "execution_count": null,
      "metadata": {
        "colab": {
          "base_uri": "https://localhost:8080/"
        },
        "id": "mRgxSVdOhMls",
        "outputId": "37322a56-9824-4015-ef0a-14211b303ccf"
      },
      "outputs": [
        {
          "name": "stdout",
          "output_type": "stream",
          "text": [
            "Requirement already satisfied: reportlab in /usr/local/lib/python3.10/dist-packages (4.2.5)\n",
            "Requirement already satisfied: pillow>=9.0.0 in /usr/local/lib/python3.10/dist-packages (from reportlab) (11.0.0)\n",
            "Requirement already satisfied: chardet in /usr/local/lib/python3.10/dist-packages (from reportlab) (5.2.0)\n"
          ]
        }
      ],
      "source": [
        "pip install reportlab\n"
      ]
    },
    {
      "cell_type": "code",
      "execution_count": null,
      "metadata": {
        "colab": {
          "base_uri": "https://localhost:8080/"
        },
        "id": "7UX-uReVi903",
        "outputId": "4533cfe1-f7c9-4973-e9ac-0187b8017dbb"
      },
      "outputs": [
        {
          "name": "stdout",
          "output_type": "stream",
          "text": [
            "PDF created successfully: merged_questions_and_answers.pdf\n"
          ]
        }
      ],
      "source": [
        "from reportlab.lib.pagesizes import letter\n",
        "from reportlab.lib.styles import getSampleStyleSheet\n",
        "from reportlab.platypus import SimpleDocTemplate, Paragraph, Spacer\n",
        "\n",
        "def text_to_pdf_reportlab(input_text_file, output_pdf_file):\n",
        "   \n",
        "    # Create a PDF document and set page size\n",
        "    doc = SimpleDocTemplate(output_pdf_file, pagesize=letter)\n",
        "\n",
        "    # Use a style sheet for the text\n",
        "    styles = getSampleStyleSheet()\n",
        "    normal_style = styles['Normal']\n",
        "    normal_style.fontName = 'Helvetica'\n",
        "    normal_style.fontSize = 12\n",
        "\n",
        "    # Define the flowable content for the PDF\n",
        "    content = []\n",
        "\n",
        "    # Open the text file and read the content\n",
        "    with open(input_text_file, \"r\", encoding=\"utf-8\") as file:\n",
        "        for line in file:\n",
        "            # Create a paragraph for each line with word wrapping\n",
        "            para = Paragraph(line.strip(), normal_style)\n",
        "            content.append(para)\n",
        "\n",
        "            # Add a spacer after each question/answer for clarity\n",
        "            content.append(Spacer(1, 12))  # Adjust the second value for more or less space\n",
        "\n",
        "    # Build the PDF with the content\n",
        "    doc.build(content)\n",
        "    print(f\"PDF created successfully: {output_pdf_file}\")\n",
        "\n",
        "\n",
        "# Example usage\n",
        "input_text_file = \"merged_questions_and_answers.txt\"  # Merged text file\n",
        "output_pdf_file = \"merged_questions_and_answers.pdf\"  # Output PDF file\n",
        "\n",
        "text_to_pdf_reportlab(input_text_file, output_pdf_file)\n"
      ]
    },
    {
      "cell_type": "code",
      "execution_count": null,
      "metadata": {
        "id": "jaqqFBjBjvwp"
      },
      "outputs": [],
      "source": []
    }
  ],
  "metadata": {
    "colab": {
      "provenance": []
    },
    "kernelspec": {
      "display_name": "Python 3",
      "name": "python3"
    },
    "language_info": {
      "name": "python"
    }
  },
  "nbformat": 4,
  "nbformat_minor": 0
}
